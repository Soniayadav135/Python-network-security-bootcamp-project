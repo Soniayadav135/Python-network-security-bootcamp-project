{
  "nbformat": 4,
  "nbformat_minor": 0,
  "metadata": {
    "colab": {
      "name": "Project of python & network security.ipynb",
      "provenance": []
    },
    "kernelspec": {
      "name": "python3",
      "display_name": "Python 3"
    },
    "language_info": {
      "name": "python"
    }
  },
  "cells": [
    {
      "cell_type": "code",
      "metadata": {
        "colab": {
          "base_uri": "https://localhost:8080/"
        },
        "id": "B4c3ZbXDwzMg",
        "outputId": "f11dd7d3-cd3b-4248-8d49-52eff7f618c0"
      },
      "source": [
        "import hashlib\n",
        "print(hashlib.md5(b'Hello World').hexdigest())    "
      ],
      "execution_count": 36,
      "outputs": [
        {
          "output_type": "stream",
          "text": [
            "b10a8db164e0754105b7a99be72e3fe5\n"
          ],
          "name": "stdout"
        }
      ]
    },
    {
      "cell_type": "code",
      "metadata": {
        "colab": {
          "base_uri": "https://localhost:8080/"
        },
        "id": "vwa7F7Vjx-uM",
        "outputId": "8de19e08-7de6-411d-d9d3-74391f68f181"
      },
      "source": [
        "import hashlib \n",
        " \n",
        "amazing = hashlib.md5(b'Hello Sonia') \n",
        "print(\"Hash Value : \", end =\"\")\n",
        "print(amazing)\n",
        "print(\"Equivalent Byte : \", end =\"\") \n",
        "print(amazing.hexdigest()) \n"
      ],
      "execution_count": 30,
      "outputs": [
        {
          "output_type": "stream",
          "text": [
            "Hash Value : <md5 HASH object @ 0x7f88dff77c90>\n",
            "Equivalent Byte : c918510bffc8e21c6ef0d69cc97160c1\n"
          ],
          "name": "stdout"
        }
      ]
    },
    {
      "cell_type": "code",
      "metadata": {
        "colab": {
          "base_uri": "https://localhost:8080/"
        },
        "id": "5GCKQvOq27ww",
        "outputId": "baa33a66-9b5d-43c0-e90f-cdd0da6e2722"
      },
      "source": [
        "import hashlib\n",
        "print(hashlib.algorithms_available)\n"
      ],
      "execution_count": 37,
      "outputs": [
        {
          "output_type": "stream",
          "text": [
            "{'sha1', 'sha224', 'sha3_256', 'shake_256', 'sha3_224', 'sha384', 'sha512', 'blake2s', 'sha256', 'sha3_384', 'blake2b', 'sha3_512', 'md5', 'shake_128'}\n"
          ],
          "name": "stdout"
        }
      ]
    },
    {
      "cell_type": "code",
      "metadata": {
        "colab": {
          "base_uri": "https://localhost:8080/"
        },
        "id": "kCNy7_oK82Tk",
        "outputId": "cc6579d6-35dc-4c2b-9f5a-f157021708de"
      },
      "source": [
        "import hashlib\n",
        "hash_object = hashlib.sha1(b'Hello World')\n",
        "hex_dig = hash_object.hexdigest()\n",
        "print(hex_dig)"
      ],
      "execution_count": 33,
      "outputs": [
        {
          "output_type": "stream",
          "text": [
            "0a4d55a8d778e5022fab701977c5d840bbc486d0\n"
          ],
          "name": "stdout"
        }
      ]
    },
    {
      "cell_type": "code",
      "metadata": {
        "colab": {
          "base_uri": "https://localhost:8080/"
        },
        "id": "hB5ESh1i9HfY",
        "outputId": "4225c015-e00e-4955-8344-a9f06610993e"
      },
      "source": [
        "import hashlib\n",
        "hash_object = hashlib.sha3_256(b'Hello World')\n",
        "hex_dig = hash_object.hexdigest()\n",
        "print(hex_dig)"
      ],
      "execution_count": 34,
      "outputs": [
        {
          "output_type": "stream",
          "text": [
            "e167f68d6563d75bb25f3aa49c29ef612d41352dc00606de7cbd630bb2665f51\n"
          ],
          "name": "stdout"
        }
      ]
    },
    {
      "cell_type": "code",
      "metadata": {
        "colab": {
          "base_uri": "https://localhost:8080/"
        },
        "id": "TwkmSmub9S9w",
        "outputId": "0ed30755-c7f8-442d-b9bf-1a7154ec2d98"
      },
      "source": [
        "import hashlib\n",
        "hash_object = hashlib.sha3_512(b'Hello World')\n",
        "hex_dig = hash_object.hexdigest()\n",
        "print(hex_dig)"
      ],
      "execution_count": 35,
      "outputs": [
        {
          "output_type": "stream",
          "text": [
            "3d58a719c6866b0214f96b0a67b37e51a91e233ce0be126a08f35fdf4c043c6126f40139bfbc338d44eb2a03de9f7bb8eff0ac260b3629811e389a5fbee8a894\n"
          ],
          "name": "stdout"
        }
      ]
    }
  ]
}